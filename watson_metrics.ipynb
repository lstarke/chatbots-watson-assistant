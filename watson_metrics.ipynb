{
  "nbformat": 4,
  "nbformat_minor": 0,
  "metadata": {
    "colab": {
      "name": "watson_metrics.ipynb",
      "provenance": [],
      "collapsed_sections": [],
      "authorship_tag": "ABX9TyOlcSuJEe3nVyfas2hHOyFy",
      "include_colab_link": true
    },
    "kernelspec": {
      "name": "python3",
      "display_name": "Python 3"
    },
    "language_info": {
      "name": "python"
    }
  },
  "cells": [
    {
      "cell_type": "markdown",
      "metadata": {
        "id": "view-in-github",
        "colab_type": "text"
      },
      "source": [
        "<a href=\"https://colab.research.google.com/github/lstarke/chatbots-watson-assistant/blob/main/watson_metrics.ipynb\" target=\"_parent\"><img src=\"https://colab.research.google.com/assets/colab-badge.svg\" alt=\"Open In Colab\"/></a>"
      ]
    },
    {
      "cell_type": "code",
      "metadata": {
        "id": "puztmJgccnWT"
      },
      "source": [
        "!pip install \"watson-developer-cloud\"\n",
        "!pip install \"ibm-watson\"\n",
        "\n",
        "import re\n",
        "import matplotlib\n",
        "import numpy as np\n",
        "import pandas as pd\n",
        "import matplotlib as mpl\n",
        "import matplotlib.pyplot as plt\n",
        "\n",
        "%matplotlib inline\n",
        "matplotlib.style.use('ggplot')\n",
        "pd.options.display.max_colwidth = 150"
      ],
      "execution_count": 31,
      "outputs": []
    },
    {
      "cell_type": "markdown",
      "metadata": {
        "id": "_QsV2RxP_qkG"
      },
      "source": [
        "###SETTING SKILL, API_KEY AND WATSON URL "
      ]
    },
    {
      "cell_type": "code",
      "metadata": {
        "id": "MZ2zLZ-ncrye"
      },
      "source": [
        "WAS_WORKSPACE = \"ac7ad156-21e5-4fa8-950f-c7384c735337\"\n",
        "WAS_API_KEY = \"N8sfqae0MvKX0NYU9L0hWYjbqYSOmKHHhsAE0Q5q-71U\"\n",
        "WAS_URL = \"https://api.us-south.assistant.watson.cloud.ibm.com\""
      ],
      "execution_count": 32,
      "outputs": []
    },
    {
      "cell_type": "markdown",
      "metadata": {
        "id": "zBIBH_dz_4tc"
      },
      "source": [
        "###TEST CONNECTION"
      ]
    },
    {
      "cell_type": "code",
      "metadata": {
        "id": "jm57FLxSjMGy"
      },
      "source": [
        "from ibm_watson import AssistantV1\n",
        "from ibm_cloud_sdk_core.authenticators import IAMAuthenticator\n",
        "\n",
        "authenticator = IAMAuthenticator(WAS_API_KEY)\n",
        "assistant = AssistantV1(\n",
        "    version='2021-04-16',\n",
        "    authenticator=authenticator\n",
        ")\n",
        "\n",
        "assistant.set_service_url(WAS_URL)\n",
        "original_workspace_id = WAS_WORKSPACE"
      ],
      "execution_count": 33,
      "outputs": []
    },
    {
      "cell_type": "markdown",
      "metadata": {
        "id": "R9o3F1VzBd5N"
      },
      "source": [
        "###TOTAL DE MENSAGENS"
      ]
    },
    {
      "cell_type": "code",
      "metadata": {
        "colab": {
          "base_uri": "https://localhost:8080/"
        },
        "id": "u2kozy58BDSs",
        "outputId": "653e3875-1efa-41e5-f999-5247b9ab9cea"
      },
      "source": [
        "response = assistant.list_logs(workspace_id = original_workspace_id, page_limit = 100, include_count=True).get_result()\n",
        "    \n",
        "list_mount_examples = []\n",
        "\n",
        "cursor_regex = r\".*?cursor=(.*?)&\"\n",
        "\n",
        "logs = response['logs']\n",
        "page = response['pagination']\n",
        "\n",
        "while response:  \n",
        "    for log in logs:\n",
        "        if log[\"response\"]:\n",
        "            lresponse = log['response']            \n",
        "            if 'input' in lresponse and 'text' in lresponse['input']:\n",
        "              list_mount_examples.append(lresponse['input']['text'].strip())\n",
        "            else:\n",
        "              list_mount_examples.append(lresponse['input']['text'].strip())\n",
        "\n",
        "    if not page:\n",
        "        break\n",
        "\n",
        "    cursor_res = re.search(cursor_regex, page['next_url'], re.IGNORECASE)\n",
        "    cursor = None\n",
        "\n",
        "    if cursor_res:\n",
        "        cursor = cursor_res.group(1)\n",
        "    if not cursor:\n",
        "        break\n",
        "  \n",
        "    response = assistant.list_logs(workspace_id=wid, page_limit=100, cursor=cursor).get_result()\n",
        "    \n",
        "    logs = response['logs']\n",
        "    page = response['pagination']\n",
        "\n",
        "df_messages = pd.DataFrame({\n",
        "    'Messages': list_mount_examples,        \n",
        "}, columns=['Messages'])\n",
        "\n",
        "print(f'Total de mensagens com o chatbot: {df_messages.shape[0]}')"
      ],
      "execution_count": 34,
      "outputs": [
        {
          "output_type": "stream",
          "text": [
            "Total de mensagens com o chatbot: 58\n"
          ],
          "name": "stdout"
        }
      ]
    },
    {
      "cell_type": "markdown",
      "metadata": {
        "id": "Ez5MaOLDLsfd"
      },
      "source": [
        "###TAXA DE TRANSBORDO"
      ]
    },
    {
      "cell_type": "code",
      "metadata": {
        "colab": {
          "base_uri": "https://localhost:8080/",
          "height": 404
        },
        "id": "OSQ8_Ftr5kTb",
        "outputId": "26828c04-64d2-437b-e7ea-1d95b712f9c9"
      },
      "source": [
        "list_original_intents = assistant.list_intents(workspace_id = original_workspace_id).get_result()\n",
        "\n",
        "list_original_examples = []\n",
        "list_original_intent_names = []\n",
        "\n",
        "intent_distribution = pd.DataFrame(columns=['classes', 'size'])\n",
        "avg_size = 0;\n",
        "\n",
        "for idx, intent in enumerate(list_original_intents['intents']):\n",
        "    examples = assistant.list_examples(\n",
        "    workspace_id = original_workspace_id,\n",
        "    intent = list_original_intents['intents'][idx]['intent']\n",
        "    ).get_result()\n",
        "    avg_size = avg_size + len(examples['examples'])\n",
        "    for example in examples['examples']:\n",
        "        list_original_examples.append(example['text'])\n",
        "        list_original_intent_names.append(list_original_intents['intents'][idx]['intent'])\n",
        "        intent_distribution.loc[idx] = pd.Series({'classes':list_original_intents['intents'][idx]['intent'], 'size': len(examples['examples'])})\n",
        "\n",
        "intent_distribution.plot(kind='bar',x='classes', y='size',figsize=(30,7))\n",
        "\n",
        "intent_distribution = pd.DataFrame({\n",
        "    'Example': list_original_examples,\n",
        "    'Intent': list_original_intent_names\n",
        "}, columns=['Example','Intent'])"
      ],
      "execution_count": 35,
      "outputs": [
        {
          "output_type": "display_data",
          "data": {
            "image/png": "[encoded data removed]",
            "text/plain": [
              "<Figure size 2160x504 with 1 Axes>"
            ]
          },
          "metadata": {
            "tags": []
          }
        }
      ]
    },
    {
      "cell_type": "code",
      "metadata": {
        "colab": {
          "base_uri": "https://localhost:8080/",
          "height": 204
        },
        "id": "SpvpxcN3JZwQ",
        "outputId": "8c6f7493-3fc8-4889-cbfa-1b3d1cf3fc5a"
      },
      "source": [
        "intent_distribution.head()"
      ],
      "execution_count": 36,
      "outputs": [
        {
          "output_type": "execute_result",
          "data": {
            "text/html": [
              "<div>\n",
              "<style scoped>\n",
              "    .dataframe tbody tr th:only-of-type {\n",
              "        vertical-align: middle;\n",
              "    }\n",
              "\n",
              "    .dataframe tbody tr th {\n",
              "        vertical-align: top;\n",
              "    }\n",
              "\n",
              "    .dataframe thead th {\n",
              "        text-align: right;\n",
              "    }\n",
              "</style>\n",
              "<table border=\"1\" class=\"dataframe\">\n",
              "  <thead>\n",
              "    <tr style=\"text-align: right;\">\n",
              "      <th></th>\n",
              "      <th>Example</th>\n",
              "      <th>Intent</th>\n",
              "    </tr>\n",
              "  </thead>\n",
              "  <tbody>\n",
              "    <tr>\n",
              "      <th>0</th>\n",
              "      <td>estou com um problema</td>\n",
              "      <td>abrir_chamado</td>\n",
              "    </tr>\n",
              "    <tr>\n",
              "      <th>1</th>\n",
              "      <td>Gostaria de abrir um chamado</td>\n",
              "      <td>abrir_chamado</td>\n",
              "    </tr>\n",
              "    <tr>\n",
              "      <th>2</th>\n",
              "      <td>preciso de ajuda aqui</td>\n",
              "      <td>abrir_chamado</td>\n",
              "    </tr>\n",
              "    <tr>\n",
              "      <th>3</th>\n",
              "      <td>quero abrir um chamado</td>\n",
              "      <td>abrir_chamado</td>\n",
              "    </tr>\n",
              "    <tr>\n",
              "      <th>4</th>\n",
              "      <td>quero abrir um helpdesk</td>\n",
              "      <td>abrir_chamado</td>\n",
              "    </tr>\n",
              "  </tbody>\n",
              "</table>\n",
              "</div>"
            ],
            "text/plain": [
              "                        Example         Intent\n",
              "0         estou com um problema  abrir_chamado\n",
              "1  Gostaria de abrir um chamado  abrir_chamado\n",
              "2         preciso de ajuda aqui  abrir_chamado\n",
              "3        quero abrir um chamado  abrir_chamado\n",
              "4       quero abrir um helpdesk  abrir_chamado"
            ]
          },
          "metadata": {
            "tags": []
          },
          "execution_count": 36
        }
      ]
    },
    {
      "cell_type": "code",
      "metadata": {
        "colab": {
          "base_uri": "https://localhost:8080/"
        },
        "id": "6q5Bus5PJagd",
        "outputId": "f2cdeb7d-aae3-4902-b9f4-cf309098ab03"
      },
      "source": [
        "intent_distribution.Intent.value_counts()"
      ],
      "execution_count": 37,
      "outputs": [
        {
          "output_type": "execute_result",
          "data": {
            "text/plain": [
              "saldo_ferias        7\n",
              "despedida           7\n",
              "definir_borracha    6\n",
              "falar_com_ti        6\n",
              "saudacao            5\n",
              "abrir_chamado       5\n",
              "abrir_rnc           5\n",
              "quem_sou_eu         5\n",
              "Name: Intent, dtype: int64"
            ]
          },
          "metadata": {
            "tags": []
          },
          "execution_count": 37
        }
      ]
    },
    {
      "cell_type": "code",
      "metadata": {
        "colab": {
          "base_uri": "https://localhost:8080/"
        },
        "id": "pV77uJ3rJs9b",
        "outputId": "91e7d097-695a-4209-ce85-5008bf1251f9"
      },
      "source": [
        "mask = (intent_distribution['Intent'] == 'falar_com_ti') | (intent_distribution['Intent'] == 'abrir_chamado')\n",
        "print(f'Taxa de transbordo: {intent_distribution[mask].Intent.value_counts().sum()}')"
      ],
      "execution_count": 38,
      "outputs": [
        {
          "output_type": "stream",
          "text": [
            "Taxa de transbordo: 11\n"
          ],
          "name": "stdout"
        }
      ]
    },
    {
      "cell_type": "markdown",
      "metadata": {
        "id": "q29P3zg5MQr8"
      },
      "source": [
        "###MENSAGENS NÃO ENTENDIDAS"
      ]
    },
    {
      "cell_type": "code",
      "metadata": {
        "colab": {
          "base_uri": "https://localhost:8080/"
        },
        "id": "Gx1kyJ7DKypi",
        "outputId": "a2cf2c4b-7518-4446-b7e1-f30c3e7fdcba"
      },
      "source": [
        "response = assistant.list_logs(workspace_id = original_workspace_id, page_limit = 100, include_count=True).get_result()\n",
        "    \n",
        "list_mount_examples = []\n",
        "\n",
        "cursor_regex = r\".*?cursor=(.*?)&\"\n",
        "\n",
        "logs = response['logs']\n",
        "page = response['pagination']\n",
        "\n",
        "while response:  \n",
        "    for log in logs:\n",
        "        if log[\"response\"]:\n",
        "            lresponse = log['response']            \n",
        "            if 'output' in lresponse and 'text' in lresponse['output']:\n",
        "              for text in lresponse['output']['text']:\n",
        "                list_mount_examples.append(text.strip())\n",
        "            else:\n",
        "              for text in lresponse['output']['text']:\n",
        "                list_mount_examples.append(text.strip())\n",
        "\n",
        "    if not page:\n",
        "        break\n",
        "\n",
        "    cursor_res = re.search(cursor_regex, page['next_url'], re.IGNORECASE)\n",
        "    cursor = None\n",
        "\n",
        "    if cursor_res:\n",
        "        cursor = cursor_res.group(1)\n",
        "    if not cursor:\n",
        "        break\n",
        "  \n",
        "    response = assistant.list_logs(workspace_id=wid, page_limit=100, cursor=cursor).get_result()\n",
        "    \n",
        "    logs = response['logs']\n",
        "    page = response['pagination']\n",
        "\n",
        "df_output_messages = pd.DataFrame({\n",
        "    'Messages': list_mount_examples,        \n",
        "}, columns=['Messages'])\n",
        "\n",
        "misunderstood_messages = df_output_messages[df_output_messages['Messages'].str.contains('não entendi')].value_counts().sum()\n",
        "\n",
        "print(f'Total de mensagens não entendidas: {misunderstood_messages}')"
      ],
      "execution_count": 39,
      "outputs": [
        {
          "output_type": "stream",
          "text": [
            "Total de mensagens não entendidas: 3\n"
          ],
          "name": "stdout"
        }
      ]
    },
    {
      "cell_type": "code",
      "metadata": {
        "colab": {
          "base_uri": "https://localhost:8080/"
        },
        "id": "reQHmWk1_Ejl",
        "outputId": "0245733b-d425-4854-c4af-3360d1d30f85"
      },
      "source": [
        "df_output_messages[df_output_messages['Messages'].str.contains('não entendi')].value_counts()"
      ],
      "execution_count": 40,
      "outputs": [
        {
          "output_type": "execute_result",
          "data": {
            "text/plain": [
              "Messages                                            \n",
              "Eu não entendi. Você pode tentar reformular a frase.    2\n",
              "Eu não entendi o sentido.                               1\n",
              "dtype: int64"
            ]
          },
          "metadata": {
            "tags": []
          },
          "execution_count": 40
        }
      ]
    },
    {
      "cell_type": "code",
      "metadata": {
        "id": "wTX6dOjk_F2X"
      },
      "source": [
        ""
      ],
      "execution_count": null,
      "outputs": []
    }
  ]
}